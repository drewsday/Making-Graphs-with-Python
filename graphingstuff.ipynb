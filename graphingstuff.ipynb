{
 "metadata": {
  "name": "graphingstuff"
 }, 
 "nbformat": 2, 
 "worksheets": [
  {
   "cells": [
    {
     "cell_type": "code", 
     "collapsed": false, 
     "input": [
      "t = arange(0.0,10.0,.01)", 
      "s = 1/(t+0.5) - 0.15", 
      "", 
      "", 
      "scatter(t,s, color='blue')", 
      "font = {'family' : 'normal',", 
      "        'weight' : 'bold',", 
      "        'size'   : 22}", 
      "matplotlib.rc('font', **font)", 
      "", 
      "xlim(xmin=-0.15,xmax=10)", 
      "ylim(ymin=-0.05,ymax=1.5)", 
      "grid(True)", 
      "xlabel('t')", 
      "ylabel('s', rotation=0,)", 
      "xticks([0])", 
      "yticks([0])", 
      "", 
      "", 
      "setp(gca(), frame_on=False)", 
      "", 
      "axhline(linewidth=2, color='black')", 
      "axvline(linewidth=2, color='black')"
     ], 
     "language": "python", 
     "outputs": [
      {
       "output_type": "pyout", 
       "prompt_number": 30, 
       "text": [
        "<matplotlib.lines.Line2D at 0xb40f0ac>"
       ]
      }, 
      {
       "output_type": "display_data", 
       "png": "[encoded data removed]"
      }
     ], 
     "prompt_number": 30
    }, 
    {
     "cell_type": "code", 
     "collapsed": false, 
     "input": [
      "t = arange(0.0,10.0,.01)", 
      "s = ones(len(t))", 
      "s = s * 0.75", 
      "", 
      "scatter(t,s, color='blue')", 
      "", 
      "setp(gca().get_ymajorticklabels(), fontsize='large')", 
      "labels = setp(gca(), ylabel='y axis', xlabel='x axis')", 
      "setp(labels, fontsize='large')", 
      "", 
      "xlim(xmin=0,xmax=10)", 
      "ylim(ymin=-0.1,ymax=1.5)", 
      "grid(True)", 
      "xlabel('t')", 
      "ylabel('s', rotation=0,)", 
      "xticks([0])", 
      "yticks([0])", 
      "", 
      "", 
      "setp(gca(), frame_on=False)", 
      "", 
      "axhline(linewidth=2, color='black')", 
      "axvline(linewidth=2, color='black')"
     ], 
     "language": "python", 
     "outputs": [
      {
       "output_type": "pyout", 
       "prompt_number": 13, 
       "text": [
        "<matplotlib.lines.Line2D at 0xa09d6ac>"
       ]
      }, 
      {
       "output_type": "stream", 
       "stream": "stderr", 
       "text": [
        "/usr/lib/pymodules/python2.7/matplotlib/font_manager.py:1228: UserWarning: findfont: Could not match :family=Bitstream Vera Sans:style=normal:variant=normal:weight=normal:stretch=normal:size=large. Returning /usr/share/matplotlib/mpl-data/fonts/ttf/cmb10.ttf", 
        "  UserWarning)", 
        "/usr/lib/pymodules/python2.7/matplotlib/font_manager.py:1228: UserWarning: findfont: Could not match :family=Bitstream Vera Sans:style=normal:variant=normal:weight=bold:stretch=normal:size=large. Returning /usr/share/matplotlib/mpl-data/fonts/ttf/cmb10.ttf", 
        "  UserWarning)"
       ]
      }, 
      {
       "output_type": "display_data", 
       "png": "[encoded data removed]"
      }
     ], 
     "prompt_number": 13
    }, 
    {
     "cell_type": "code", 
     "collapsed": true, 
     "input": [], 
     "language": "python", 
     "outputs": []
    }
   ]
  }
 ]
}